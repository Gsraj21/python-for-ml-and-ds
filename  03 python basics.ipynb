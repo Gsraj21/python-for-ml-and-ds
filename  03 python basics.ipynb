{
 "cells": [
  {
   "cell_type": "code",
   "execution_count": 1,
   "id": "0406e9a2",
   "metadata": {},
   "outputs": [
    {
     "name": "stdout",
     "output_type": "stream",
     "text": [
      "hello word\n"
     ]
    }
   ],
   "source": [
    "print('hello word')"
   ]
  },
  {
   "cell_type": "code",
   "execution_count": 3,
   "id": "f4b924c0",
   "metadata": {},
   "outputs": [
    {
     "name": "stdout",
     "output_type": "stream",
     "text": [
      "4.0\n"
     ]
    }
   ],
   "source": [
    "a=5\n",
    "b=10\n",
    "c=2\n",
    "d= b*c/a\n",
    "print(d)"
   ]
  },
  {
   "cell_type": "markdown",
   "id": "d71ca3a3",
   "metadata": {},
   "source": [
    "#### hello world\n",
    "this is a mark down which i done from menu bar by dropdown\n",
    "tripal hash is used to highlight"
   ]
  },
  {
   "cell_type": "markdown",
   "id": "0fa4ae75",
   "metadata": {},
   "source": [
    "### this is the thing\n",
    " \n",
    " this is a markdown cell\n",
    "\n",
    "\n",
    "- A\n",
    "- B\n",
    "- C\n",
    "- D\n",
    "- E\n",
    "\n",
    "i use  dash and option for it\n",
    "\n",
    "shift + enter is used for execution\n",
    "\n"
   ]
  },
  {
   "cell_type": "markdown",
   "id": "eead206c",
   "metadata": {},
   "source": [
    "### order of the In[order] is also imporant in it "
   ]
  },
  {
   "cell_type": "code",
   "execution_count": 25,
   "id": "7c2f4f0a",
   "metadata": {},
   "outputs": [
    {
     "data": {
      "text/plain": [
       "'\\nthis is a multiline \\ncomment\\nand you can write it by three single cotetion before and after \\nit\\n\\n'"
      ]
     },
     "execution_count": 25,
     "metadata": {},
     "output_type": "execute_result"
    }
   ],
   "source": [
    "\n",
    "'''\n",
    "this is a multiline \n",
    "comment\n",
    "and you can write it by three single cotetion before and after \n",
    "it\n",
    "\n",
    "'''"
   ]
  },
  {
   "cell_type": "code",
   "execution_count": 26,
   "id": "9b0e4833",
   "metadata": {},
   "outputs": [],
   "source": [
    "a=5"
   ]
  },
  {
   "cell_type": "code",
   "execution_count": 2,
   "id": "0b96ef52",
   "metadata": {},
   "outputs": [
    {
     "data": {
      "text/plain": [
       "int"
      ]
     },
     "execution_count": 2,
     "metadata": {},
     "output_type": "execute_result"
    }
   ],
   "source": [
    "type(a)"
   ]
  },
  {
   "cell_type": "code",
   "execution_count": 17,
   "id": "192225ca",
   "metadata": {},
   "outputs": [],
   "source": [
    "name =\"hari is a good  boy\"\n",
    "#single word is also considered as a string in python"
   ]
  },
  {
   "cell_type": "code",
   "execution_count": 4,
   "id": "12a46ad3",
   "metadata": {},
   "outputs": [
    {
     "data": {
      "text/plain": [
       "str"
      ]
     },
     "execution_count": 4,
     "metadata": {},
     "output_type": "execute_result"
    }
   ],
   "source": [
    "type(name)"
   ]
  },
  {
   "cell_type": "code",
   "execution_count": 5,
   "id": "55551453",
   "metadata": {},
   "outputs": [],
   "source": [
    "b=5j"
   ]
  },
  {
   "cell_type": "code",
   "execution_count": 15,
   "id": "bb23403a",
   "metadata": {},
   "outputs": [
    {
     "data": {
      "text/plain": [
       "complex"
      ]
     },
     "execution_count": 15,
     "metadata": {},
     "output_type": "execute_result"
    }
   ],
   "source": [
    "type(b)"
   ]
  },
  {
   "cell_type": "code",
   "execution_count": 7,
   "id": "541174d0",
   "metadata": {},
   "outputs": [],
   "source": [
    "b=5"
   ]
  },
  {
   "cell_type": "code",
   "execution_count": 16,
   "id": "c7084cb1",
   "metadata": {},
   "outputs": [
    {
     "data": {
      "text/plain": [
       "complex"
      ]
     },
     "execution_count": 16,
     "metadata": {},
     "output_type": "execute_result"
    }
   ],
   "source": [
    "type(b)"
   ]
  },
  {
   "cell_type": "code",
   "execution_count": 30,
   "id": "93d5d76d",
   "metadata": {},
   "outputs": [],
   "source": [
    "a= '''\n",
    "this is the \n",
    "multiple line\n",
    "string\n",
    "'''\n",
    "b = \"\"\"\n",
    "this is multiple line\n",
    "string\n",
    "\"\"\""
   ]
  },
  {
   "cell_type": "code",
   "execution_count": 31,
   "id": "b1aef0c1",
   "metadata": {},
   "outputs": [
    {
     "name": "stdout",
     "output_type": "stream",
     "text": [
      "\n",
      "this is the \n",
      "multiple line\n",
      "string\n",
      "\n",
      "\n",
      "this is multiple line\n",
      "string\n",
      "\n"
     ]
    }
   ],
   "source": [
    "print(a)\n",
    "print(b)"
   ]
  },
  {
   "cell_type": "code",
   "execution_count": 33,
   "id": "cb71aa77",
   "metadata": {},
   "outputs": [
    {
     "name": "stdout",
     "output_type": "stream",
     "text": [
      "a is greater than 2\n"
     ]
    }
   ],
   "source": [
    "a=5\n",
    "\n",
    "if a>2:\n",
    "    print(\"a is greater than 2\")\n",
    "\n",
    "elif a==2:\n",
    "    print(\"a is equal to 2\")\n",
    "    \n",
    "else:\n",
    "    print(\"a is smaller than 2\")"
   ]
  },
  {
   "cell_type": "code",
   "execution_count": 35,
   "id": "694c13f4",
   "metadata": {},
   "outputs": [],
   "source": [
    "b =14"
   ]
  },
  {
   "cell_type": "code",
   "execution_count": 37,
   "id": "85186f5f",
   "metadata": {},
   "outputs": [
    {
     "name": "stdout",
     "output_type": "stream",
     "text": [
      "14\n",
      "13\n",
      "12\n",
      "11\n",
      "10\n",
      "9\n",
      "8\n",
      "7\n",
      "6\n",
      "5\n",
      "4\n",
      "3\n",
      "2\n",
      "1\n"
     ]
    }
   ],
   "source": [
    "while b!=0:\n",
    "    print(b)\n",
    "    b-=1"
   ]
  },
  {
   "cell_type": "code",
   "execution_count": 38,
   "id": "74a40a8e",
   "metadata": {},
   "outputs": [
    {
     "name": "stdout",
     "output_type": "stream",
     "text": [
      "g\n",
      "a\n",
      "u\n",
      "t\n",
      "a\n",
      "m\n"
     ]
    }
   ],
   "source": [
    "name = \"gautam\"\n",
    "for i in name:\n",
    "    print(i)"
   ]
  },
  {
   "cell_type": "code",
   "execution_count": 40,
   "id": "a20f4449",
   "metadata": {},
   "outputs": [
    {
     "name": "stdout",
     "output_type": "stream",
     "text": [
      "0\n",
      "1\n",
      "2\n",
      "3\n",
      "4\n"
     ]
    }
   ],
   "source": [
    "for i in range(5):\n",
    "    print(i)"
   ]
  },
  {
   "cell_type": "code",
   "execution_count": 43,
   "id": "469100f3",
   "metadata": {},
   "outputs": [
    {
     "name": "stdout",
     "output_type": "stream",
     "text": [
      "2\n",
      "3\n",
      "4\n",
      "5\n",
      "6\n",
      "7\n",
      "8\n",
      "9\n"
     ]
    }
   ],
   "source": [
    "for i in range(2,10):\n",
    "    print(i)"
   ]
  },
  {
   "cell_type": "code",
   "execution_count": 44,
   "id": "719f2f2f",
   "metadata": {},
   "outputs": [
    {
     "name": "stdout",
     "output_type": "stream",
     "text": [
      "2\n",
      "4\n",
      "6\n",
      "8\n",
      "10\n",
      "12\n",
      "14\n",
      "16\n",
      "18\n",
      "20\n",
      "22\n",
      "24\n",
      "26\n",
      "28\n"
     ]
    }
   ],
   "source": [
    "for i in range(2,30,2):\n",
    "    print(i)"
   ]
  },
  {
   "cell_type": "code",
   "execution_count": 45,
   "id": "2c816f21",
   "metadata": {},
   "outputs": [],
   "source": [
    "a=10\n",
    "b=5\n"
   ]
  },
  {
   "cell_type": "code",
   "execution_count": 46,
   "id": "ef55dae7",
   "metadata": {},
   "outputs": [
    {
     "name": "stdout",
     "output_type": "stream",
     "text": [
      "50\n"
     ]
    }
   ],
   "source": [
    "print(a*b)"
   ]
  },
  {
   "cell_type": "code",
   "execution_count": 47,
   "id": "a9211484",
   "metadata": {},
   "outputs": [
    {
     "name": "stdout",
     "output_type": "stream",
     "text": [
      "2.0\n"
     ]
    }
   ],
   "source": [
    "print(a/b)"
   ]
  },
  {
   "cell_type": "code",
   "execution_count": 48,
   "id": "15c9cf6c",
   "metadata": {},
   "outputs": [
    {
     "name": "stdout",
     "output_type": "stream",
     "text": [
      "2\n"
     ]
    }
   ],
   "source": [
    "print(a//b)"
   ]
  },
  {
   "cell_type": "code",
   "execution_count": 49,
   "id": "b849ef30",
   "metadata": {},
   "outputs": [
    {
     "name": "stdout",
     "output_type": "stream",
     "text": [
      "100000\n"
     ]
    }
   ],
   "source": [
    "print(a**b)"
   ]
  },
  {
   "cell_type": "code",
   "execution_count": 50,
   "id": "f1cee5a1",
   "metadata": {},
   "outputs": [
    {
     "name": "stdout",
     "output_type": "stream",
     "text": [
      "0\n"
     ]
    }
   ],
   "source": [
    "print(a%b\n",
    "     )"
   ]
  },
  {
   "cell_type": "markdown",
   "id": "fafd2489",
   "metadata": {},
   "source": [
    " comparision operator\n",
    "\n",
    " == \n",
    " #>= greater than or equal to\n",
    " #<= less than or equal to\n",
    " #>\n",
    " <\n",
    " != not equal to\n",
    " "
   ]
  },
  {
   "cell_type": "markdown",
   "id": "b45c063a",
   "metadata": {},
   "source": [
    "### logica operator"
   ]
  },
  {
   "cell_type": "code",
   "execution_count": 52,
   "id": "d3996877",
   "metadata": {},
   "outputs": [
    {
     "data": {
      "text/plain": [
       "5"
      ]
     },
     "execution_count": 52,
     "metadata": {},
     "output_type": "execute_result"
    }
   ],
   "source": [
    "5 or 7"
   ]
  },
  {
   "cell_type": "code",
   "execution_count": 53,
   "id": "b8a45f56",
   "metadata": {},
   "outputs": [
    {
     "data": {
      "text/plain": [
       "7"
      ]
     },
     "execution_count": 53,
     "metadata": {},
     "output_type": "execute_result"
    }
   ],
   "source": [
    "5 and 7"
   ]
  },
  {
   "cell_type": "code",
   "execution_count": null,
   "id": "7f3005d2",
   "metadata": {},
   "outputs": [],
   "source": []
  }
 ],
 "metadata": {
  "kernelspec": {
   "display_name": "Python 3 (ipykernel)",
   "language": "python",
   "name": "python3"
  },
  "language_info": {
   "codemirror_mode": {
    "name": "ipython",
    "version": 3
   },
   "file_extension": ".py",
   "mimetype": "text/x-python",
   "name": "python",
   "nbconvert_exporter": "python",
   "pygments_lexer": "ipython3",
   "version": "3.9.12"
  }
 },
 "nbformat": 4,
 "nbformat_minor": 5
}
