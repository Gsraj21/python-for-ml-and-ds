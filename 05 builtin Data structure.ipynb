{
 "cells": [
  {
   "cell_type": "code",
   "execution_count": 1,
   "id": "85c40f83",
   "metadata": {},
   "outputs": [],
   "source": [
    "a ='a'"
   ]
  },
  {
   "cell_type": "code",
   "execution_count": 2,
   "id": "8599e41d",
   "metadata": {},
   "outputs": [
    {
     "data": {
      "text/plain": [
       "97"
      ]
     },
     "execution_count": 2,
     "metadata": {},
     "output_type": "execute_result"
    }
   ],
   "source": [
    "ord(a)"
   ]
  },
  {
   "cell_type": "code",
   "execution_count": 3,
   "id": "adbc4684",
   "metadata": {},
   "outputs": [
    {
     "data": {
      "text/plain": [
       "'A'"
      ]
     },
     "execution_count": 3,
     "metadata": {},
     "output_type": "execute_result"
    }
   ],
   "source": [
    "chr(65)"
   ]
  },
  {
   "cell_type": "code",
   "execution_count": 4,
   "id": "f47276ba",
   "metadata": {},
   "outputs": [
    {
     "name": "stdout",
     "output_type": "stream",
     "text": [
      "ramu\n"
     ]
    }
   ],
   "source": [
    "a =\"ramu\"\n",
    "print(a)"
   ]
  },
  {
   "cell_type": "code",
   "execution_count": 9,
   "id": "9ae43070",
   "metadata": {},
   "outputs": [],
   "source": [
    "a = 1\n",
    "b=5\n",
    "c=10"
   ]
  },
  {
   "cell_type": "code",
   "execution_count": 10,
   "id": "c1889577",
   "metadata": {},
   "outputs": [
    {
     "name": "stdout",
     "output_type": "stream",
     "text": [
      "1-> 5-> 10\n"
     ]
    }
   ],
   "source": [
    "print(str(a)+ \"-> \" + str(b)+ \"-> \" + str(c))"
   ]
  },
  {
   "cell_type": "code",
   "execution_count": 11,
   "id": "1495e2f9",
   "metadata": {},
   "outputs": [
    {
     "name": "stdout",
     "output_type": "stream",
     "text": [
      "1-5-10\n"
     ]
    }
   ],
   "source": [
    "print(\"%d-%d-%d\" % (a,b,c))"
   ]
  },
  {
   "cell_type": "code",
   "execution_count": 13,
   "id": "6546b5b0",
   "metadata": {},
   "outputs": [
    {
     "name": "stdout",
     "output_type": "stream",
     "text": [
      "ram , shukla\n"
     ]
    }
   ],
   "source": [
    "print(\"{firstName} , {lastName}\" .format(firstName =\"ram\",lastName=\"shukla\"))"
   ]
  },
  {
   "cell_type": "code",
   "execution_count": 15,
   "id": "1341b17d",
   "metadata": {},
   "outputs": [
    {
     "name": "stdout",
     "output_type": "stream",
     "text": [
      "ram , shukla\n"
     ]
    }
   ],
   "source": [
    "firstName =\"ram\"\n",
    "lastName=\"shukla\"\n",
    "print(f\"{firstName} , {lastName}\")\n",
    "#here f is used to fetch data from previous lines of code"
   ]
  },
  {
   "cell_type": "code",
   "execution_count": 31,
   "id": "7ccb3527",
   "metadata": {},
   "outputs": [],
   "source": [
    "a= '  am.    '\n",
    "#a.strip() is used ro remove white space from start to first character "
   ]
  },
  {
   "cell_type": "code",
   "execution_count": 32,
   "id": "01e5d8a6",
   "metadata": {},
   "outputs": [
    {
     "name": "stdout",
     "output_type": "stream",
     "text": [
      "am.\n"
     ]
    },
    {
     "data": {
      "text/plain": [
       "False"
      ]
     },
     "execution_count": 32,
     "metadata": {},
     "output_type": "execute_result"
    }
   ],
   "source": [
    "print(a.strip())\n",
    "a.strip()== \"yes\""
   ]
  },
  {
   "cell_type": "code",
   "execution_count": 33,
   "id": "5635cca2",
   "metadata": {},
   "outputs": [
    {
     "name": "stdout",
     "output_type": "stream",
     "text": [
      "1 2 3 4 5 6\n"
     ]
    }
   ],
   "source": [
    "a= input()"
   ]
  },
  {
   "cell_type": "code",
   "execution_count": 34,
   "id": "42461d07",
   "metadata": {},
   "outputs": [
    {
     "data": {
      "text/plain": [
       "['1', '2', '3', '4', '5', '6']"
      ]
     },
     "execution_count": 34,
     "metadata": {},
     "output_type": "execute_result"
    }
   ],
   "source": [
    "a.split(' ')"
   ]
  },
  {
   "cell_type": "code",
   "execution_count": 43,
   "id": "8d33b336",
   "metadata": {},
   "outputs": [],
   "source": [
    "a = \"raamu\"\n",
    "# we can not change the any item directly just like array in cpp because string are immutable"
   ]
  },
  {
   "cell_type": "code",
   "execution_count": 44,
   "id": "27305439",
   "metadata": {},
   "outputs": [
    {
     "data": {
      "text/plain": [
       "'rllmu'"
      ]
     },
     "execution_count": 44,
     "metadata": {},
     "output_type": "execute_result"
    }
   ],
   "source": [
    "a.replace('a','l')#all a replaced by l"
   ]
  },
  {
   "cell_type": "code",
   "execution_count": 45,
   "id": "2cd357b4",
   "metadata": {},
   "outputs": [
    {
     "data": {
      "text/plain": [
       "2"
      ]
     },
     "execution_count": 45,
     "metadata": {},
     "output_type": "execute_result"
    }
   ],
   "source": [
    "a.count('a')"
   ]
  },
  {
   "cell_type": "markdown",
   "id": "f490b3c8",
   "metadata": {},
   "source": [
    "### list in python"
   ]
  },
  {
   "cell_type": "code",
   "execution_count": 46,
   "id": "1afc161e",
   "metadata": {},
   "outputs": [],
   "source": [
    "a =[1,2,3,4]"
   ]
  },
  {
   "cell_type": "code",
   "execution_count": 50,
   "id": "bc2f1714",
   "metadata": {},
   "outputs": [
    {
     "data": {
      "text/plain": [
       "[1, 2, 3, 4]"
      ]
     },
     "execution_count": 50,
     "metadata": {},
     "output_type": "execute_result"
    }
   ],
   "source": [
    "a\n"
   ]
  },
  {
   "cell_type": "code",
   "execution_count": 51,
   "id": "950314ad",
   "metadata": {},
   "outputs": [
    {
     "data": {
      "text/plain": [
       "3"
      ]
     },
     "execution_count": 51,
     "metadata": {},
     "output_type": "execute_result"
    }
   ],
   "source": [
    "a[2]"
   ]
  },
  {
   "cell_type": "code",
   "execution_count": 55,
   "id": "d53e45a6",
   "metadata": {},
   "outputs": [],
   "source": [
    "a=[\"ram\", 2 , 1.5 , \"die\"] #hetrogenous"
   ]
  },
  {
   "cell_type": "code",
   "execution_count": 56,
   "id": "a171dcfa",
   "metadata": {},
   "outputs": [
    {
     "data": {
      "text/plain": [
       "'die'"
      ]
     },
     "execution_count": 56,
     "metadata": {},
     "output_type": "execute_result"
    }
   ],
   "source": [
    "a[3]"
   ]
  },
  {
   "cell_type": "code",
   "execution_count": 57,
   "id": "eb58c0ba",
   "metadata": {},
   "outputs": [],
   "source": [
    "a = 'ramu'"
   ]
  },
  {
   "cell_type": "code",
   "execution_count": 58,
   "id": "06007393",
   "metadata": {},
   "outputs": [
    {
     "data": {
      "text/plain": [
       "'ramu'"
      ]
     },
     "execution_count": 58,
     "metadata": {},
     "output_type": "execute_result"
    }
   ],
   "source": [
    "a[:]"
   ]
  },
  {
   "cell_type": "code",
   "execution_count": 61,
   "id": "493f9425",
   "metadata": {},
   "outputs": [
    {
     "data": {
      "text/plain": [
       "'umar'"
      ]
     },
     "execution_count": 61,
     "metadata": {},
     "output_type": "execute_result"
    }
   ],
   "source": [
    "a[::-1]# most eligant way to reverse a string"
   ]
  },
  {
   "cell_type": "code",
   "execution_count": 62,
   "id": "8fee754c",
   "metadata": {},
   "outputs": [
    {
     "data": {
      "text/plain": [
       "False"
      ]
     },
     "execution_count": 62,
     "metadata": {},
     "output_type": "execute_result"
    }
   ],
   "source": [
    "a == a[::-1] # for pallindrome checking"
   ]
  },
  {
   "cell_type": "markdown",
   "id": "66984cab",
   "metadata": {},
   "source": [
    "### Touples"
   ]
  },
  {
   "cell_type": "code",
   "execution_count": 63,
   "id": "46a10aa9",
   "metadata": {},
   "outputs": [],
   "source": [
    "a=(1,2)"
   ]
  },
  {
   "cell_type": "code",
   "execution_count": 64,
   "id": "c4a7aba6",
   "metadata": {},
   "outputs": [
    {
     "data": {
      "text/plain": [
       "tuple"
      ]
     },
     "execution_count": 64,
     "metadata": {},
     "output_type": "execute_result"
    }
   ],
   "source": [
    "type(a)"
   ]
  },
  {
   "cell_type": "code",
   "execution_count": 65,
   "id": "48e59300",
   "metadata": {},
   "outputs": [],
   "source": [
    "b=1,2"
   ]
  },
  {
   "cell_type": "code",
   "execution_count": 66,
   "id": "33102f68",
   "metadata": {},
   "outputs": [
    {
     "data": {
      "text/plain": [
       "tuple"
      ]
     },
     "execution_count": 66,
     "metadata": {},
     "output_type": "execute_result"
    }
   ],
   "source": [
    "type(b)"
   ]
  },
  {
   "cell_type": "code",
   "execution_count": 67,
   "id": "23bbf8f3",
   "metadata": {},
   "outputs": [],
   "source": [
    "p, q = b\n"
   ]
  },
  {
   "cell_type": "code",
   "execution_count": 68,
   "id": "97a44d55",
   "metadata": {},
   "outputs": [
    {
     "data": {
      "text/plain": [
       "1"
      ]
     },
     "execution_count": 68,
     "metadata": {},
     "output_type": "execute_result"
    }
   ],
   "source": [
    "p"
   ]
  },
  {
   "cell_type": "code",
   "execution_count": 69,
   "id": "bd7a9318",
   "metadata": {},
   "outputs": [
    {
     "data": {
      "text/plain": [
       "2"
      ]
     },
     "execution_count": 69,
     "metadata": {},
     "output_type": "execute_result"
    }
   ],
   "source": [
    "q"
   ]
  },
  {
   "cell_type": "code",
   "execution_count": 70,
   "id": "ebf0bbc7",
   "metadata": {},
   "outputs": [],
   "source": [
    "a=2\n",
    "b=1"
   ]
  },
  {
   "cell_type": "code",
   "execution_count": 71,
   "id": "0f301e30",
   "metadata": {},
   "outputs": [],
   "source": [
    "a,b = b,a"
   ]
  },
  {
   "cell_type": "code",
   "execution_count": 72,
   "id": "e905a837",
   "metadata": {},
   "outputs": [
    {
     "data": {
      "text/plain": [
       "1"
      ]
     },
     "execution_count": 72,
     "metadata": {},
     "output_type": "execute_result"
    }
   ],
   "source": [
    "a"
   ]
  },
  {
   "cell_type": "code",
   "execution_count": 73,
   "id": "32e15fb0",
   "metadata": {},
   "outputs": [
    {
     "data": {
      "text/plain": [
       "2"
      ]
     },
     "execution_count": 73,
     "metadata": {},
     "output_type": "execute_result"
    }
   ],
   "source": [
    "b"
   ]
  },
  {
   "cell_type": "code",
   "execution_count": null,
   "id": "16ebfef8",
   "metadata": {},
   "outputs": [],
   "source": []
  }
 ],
 "metadata": {
  "kernelspec": {
   "display_name": "Python 3 (ipykernel)",
   "language": "python",
   "name": "python3"
  },
  "language_info": {
   "codemirror_mode": {
    "name": "ipython",
    "version": 3
   },
   "file_extension": ".py",
   "mimetype": "text/x-python",
   "name": "python",
   "nbconvert_exporter": "python",
   "pygments_lexer": "ipython3",
   "version": "3.9.12"
  }
 },
 "nbformat": 4,
 "nbformat_minor": 5
}
