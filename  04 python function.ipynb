{
 "cells": [
  {
   "cell_type": "code",
   "execution_count": 6,
   "id": "7bad35dd",
   "metadata": {},
   "outputs": [],
   "source": [
    "# define sheldom_knock it is easy to call function and and it reduce lines of code\n",
    "def sheldom_knock():\n",
    "    print(\"knock knock gautam\")\n",
    "    "
   ]
  },
  {
   "cell_type": "code",
   "execution_count": 7,
   "id": "38eea5b5",
   "metadata": {},
   "outputs": [
    {
     "name": "stdout",
     "output_type": "stream",
     "text": [
      "knock knock gautam\n",
      "knock knock gautam\n"
     ]
    }
   ],
   "source": [
    "for i in range(2):\n",
    "    sheldom_knock()"
   ]
  },
  {
   "cell_type": "code",
   "execution_count": 31,
   "id": "b9a50055",
   "metadata": {},
   "outputs": [],
   "source": [
    "#we also can define range in this and print this statement as many times as we want\n",
    "def sheldom_knock(name,times=2):\n",
    "    for i in range(times):\n",
    "        print(\"knock knock {}\".format(name))\n"
   ]
  },
  {
   "cell_type": "code",
   "execution_count": 32,
   "id": "02076c41",
   "metadata": {},
   "outputs": [
    {
     "name": "stdout",
     "output_type": "stream",
     "text": [
      "knock knock gautam\n",
      "knock knock gautam\n",
      "knock knock gautam\n",
      "knock knock gautam\n",
      "knock knock gautam\n"
     ]
    }
   ],
   "source": [
    "\n",
    "sheldom_knock(\"gautam\",5)"
   ]
  },
  {
   "cell_type": "code",
   "execution_count": 34,
   "id": "d8ba4900",
   "metadata": {},
   "outputs": [],
   "source": [
    "def add(a,b):\n",
    "    return a+b"
   ]
  },
  {
   "cell_type": "code",
   "execution_count": 35,
   "id": "132016fa",
   "metadata": {},
   "outputs": [
    {
     "name": "stdout",
     "output_type": "stream",
     "text": [
      "5\n"
     ]
    }
   ],
   "source": [
    "x= add(2,3)\n",
    "print(x)"
   ]
  },
  {
   "cell_type": "code",
   "execution_count": 36,
   "id": "d4d9b6d1",
   "metadata": {},
   "outputs": [],
   "source": [
    "def div(a,b):\n",
    "    try:\n",
    "        return a/b\n",
    "    except:\n",
    "        print('error !')\n",
    "    \n",
    "    finally:\n",
    "        print(\"wrapping up\")\n",
    "        #if i write return stmt in finally block then it consider finally block value\n",
    "        # read from other source about this function and this syntex that how it works"
   ]
  },
  {
   "cell_type": "code",
   "execution_count": 37,
   "id": "8c6fa986",
   "metadata": {},
   "outputs": [
    {
     "name": "stdout",
     "output_type": "stream",
     "text": [
      "wrapping up\n"
     ]
    },
    {
     "data": {
      "text/plain": [
       "5.0"
      ]
     },
     "execution_count": 37,
     "metadata": {},
     "output_type": "execute_result"
    }
   ],
   "source": [
    "div(10,2)"
   ]
  },
  {
   "cell_type": "code",
   "execution_count": 38,
   "id": "935befb3",
   "metadata": {},
   "outputs": [
    {
     "name": "stdout",
     "output_type": "stream",
     "text": [
      "error !\n",
      "wrapping up\n"
     ]
    }
   ],
   "source": [
    "div(2,0)"
   ]
  },
  {
   "cell_type": "markdown",
   "id": "9db7f115",
   "metadata": {},
   "source": [
    "### learn about the scope of variables in python\n",
    "- learn about global\n",
    "- non local\n",
    "- scope and other ...."
   ]
  },
  {
   "cell_type": "code",
   "execution_count": 40,
   "id": "39aacdad",
   "metadata": {},
   "outputs": [],
   "source": [
    "#packing arguments\n",
    "\n",
    "def show(a,b,c):\n",
    "    print(a)\n",
    "    print(b)\n",
    "    print(c)"
   ]
  },
  {
   "cell_type": "code",
   "execution_count": 41,
   "id": "9ebc8d72",
   "metadata": {},
   "outputs": [
    {
     "name": "stdout",
     "output_type": "stream",
     "text": [
      "ram\n",
      "shyam\n",
      "ghanshyam\n"
     ]
    }
   ],
   "source": [
    "show(\"ram\",\"shyam\",\"ghanshyam\")"
   ]
  },
  {
   "cell_type": "code",
   "execution_count": 42,
   "id": "bec42c07",
   "metadata": {},
   "outputs": [
    {
     "name": "stdout",
     "output_type": "stream",
     "text": [
      "ghanshyam\n",
      "ram\n",
      "shyam\n"
     ]
    }
   ],
   "source": [
    "show(b=\"ram\",c=\"shyam\",a=\"ghanshyam\")"
   ]
  },
  {
   "cell_type": "code",
   "execution_count": 43,
   "id": "97ec5ab8",
   "metadata": {},
   "outputs": [
    {
     "name": "stdout",
     "output_type": "stream",
     "text": [
      "dhillu is a good boy\n"
     ]
    }
   ],
   "source": [
    "print(\"dhillu\",\"is\",\"a\",\"good\",\"boy\")"
   ]
  },
  {
   "cell_type": "code",
   "execution_count": 58,
   "id": "1e409a49",
   "metadata": {},
   "outputs": [],
   "source": [
    "def show(*args):\n",
    "    print(args)"
   ]
  },
  {
   "cell_type": "code",
   "execution_count": 59,
   "id": "d6ab757c",
   "metadata": {},
   "outputs": [
    {
     "name": "stdout",
     "output_type": "stream",
     "text": [
      "(1, 2, 3, 'jatin')\n"
     ]
    }
   ],
   "source": [
    "show(1,2,3,\"jatin\")"
   ]
  },
  {
   "cell_type": "code",
   "execution_count": 63,
   "id": "3674c782",
   "metadata": {},
   "outputs": [],
   "source": [
    "# *args is a packed data argumente  it means other than defined arguments are considered in it\n",
    "# one more is **kwargs which store data in key worded arguments\n",
    "# if you give name=\"ramu\" then it save as {name: ramu} as a dictonary"
   ]
  },
  {
   "cell_type": "code",
   "execution_count": 65,
   "id": "50aaa59e",
   "metadata": {},
   "outputs": [],
   "source": [
    "def add(a,b):\n",
    "    return a+b"
   ]
  },
  {
   "cell_type": "code",
   "execution_count": 66,
   "id": "6eda1af1",
   "metadata": {},
   "outputs": [
    {
     "name": "stdout",
     "output_type": "stream",
     "text": [
      "5\n"
     ]
    }
   ],
   "source": [
    "x = add(2,3)\n",
    "print(x)"
   ]
  },
  {
   "cell_type": "code",
   "execution_count": 68,
   "id": "118a8108",
   "metadata": {},
   "outputs": [
    {
     "name": "stdout",
     "output_type": "stream",
     "text": [
      "15\n"
     ]
    }
   ],
   "source": [
    "#lambda is used when there is only one return statement\n",
    "add = lambda a,b: a+b\n",
    "x = add(5,10)\n",
    "print(x)"
   ]
  },
  {
   "cell_type": "code",
   "execution_count": 69,
   "id": "33ddfa68",
   "metadata": {},
   "outputs": [],
   "source": [
    "# sort the list by selective index\n",
    "a = [(\"ram\",3),(\"shyam\",1),(\"ghanu\",2)]"
   ]
  },
  {
   "cell_type": "code",
   "execution_count": 70,
   "id": "f27149a0",
   "metadata": {},
   "outputs": [
    {
     "name": "stdout",
     "output_type": "stream",
     "text": [
      "[('ghanu', 2), ('ram', 3), ('shyam', 1)]\n"
     ]
    }
   ],
   "source": [
    "x = sorted(a)\n",
    "print(x)"
   ]
  },
  {
   "cell_type": "code",
   "execution_count": 72,
   "id": "cc63ae59",
   "metadata": {},
   "outputs": [
    {
     "data": {
      "text/plain": [
       "[('ghanu', 2), ('ram', 3), ('shyam', 1)]"
      ]
     },
     "execution_count": 72,
     "metadata": {},
     "output_type": "execute_result"
    }
   ],
   "source": [
    "sorted(a, key = lambda x:x[0])"
   ]
  },
  {
   "cell_type": "code",
   "execution_count": 74,
   "id": "d1a8e194",
   "metadata": {},
   "outputs": [
    {
     "data": {
      "text/plain": [
       "[('shyam', 1), ('ghanu', 2), ('ram', 3)]"
      ]
     },
     "execution_count": 74,
     "metadata": {},
     "output_type": "execute_result"
    }
   ],
   "source": [
    "sorted(a, key = lambda x:x[1])"
   ]
  },
  {
   "cell_type": "markdown",
   "id": "4aac713e",
   "metadata": {},
   "source": [
    "### Decorators\n",
    "- not that much clear yet\n",
    "- so repeat if you got time"
   ]
  },
  {
   "cell_type": "code",
   "execution_count": 75,
   "id": "073c8815",
   "metadata": {},
   "outputs": [],
   "source": [
    "users ={\n",
    "    \"ram\": 123,\n",
    "    \"shyam\": \"local\"\n",
    "}"
   ]
  },
  {
   "cell_type": "code",
   "execution_count": 76,
   "id": "dac146b7",
   "metadata": {},
   "outputs": [],
   "source": [
    "def Auth(username, password):\n",
    "    if username in users and users[username] == password:\n",
    "        print(\"your welcome\")\n",
    "        \n",
    "    else:\n",
    "        print(\"! oops something went wrong\")"
   ]
  },
  {
   "cell_type": "code",
   "execution_count": 78,
   "id": "81f4b6a4",
   "metadata": {},
   "outputs": [
    {
     "name": "stdout",
     "output_type": "stream",
     "text": [
      "your welcome\n"
     ]
    }
   ],
   "source": [
    "Auth(\"ram\",123)"
   ]
  },
  {
   "cell_type": "code",
   "execution_count": 79,
   "id": "3ee1fbc6",
   "metadata": {},
   "outputs": [
    {
     "name": "stdout",
     "output_type": "stream",
     "text": [
      "! oops something went wrong\n"
     ]
    }
   ],
   "source": [
    "Auth(\"hari\",123)"
   ]
  },
  {
   "cell_type": "code",
   "execution_count": null,
   "id": "d3fee82a",
   "metadata": {},
   "outputs": [],
   "source": []
  }
 ],
 "metadata": {
  "kernelspec": {
   "display_name": "Python 3 (ipykernel)",
   "language": "python",
   "name": "python3"
  },
  "language_info": {
   "codemirror_mode": {
    "name": "ipython",
    "version": 3
   },
   "file_extension": ".py",
   "mimetype": "text/x-python",
   "name": "python",
   "nbconvert_exporter": "python",
   "pygments_lexer": "ipython3",
   "version": "3.9.12"
  }
 },
 "nbformat": 4,
 "nbformat_minor": 5
}
